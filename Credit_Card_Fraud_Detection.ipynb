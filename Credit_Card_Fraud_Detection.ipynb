{
  "cells": [
    {
      "cell_type": "markdown",
      "metadata": {
        "id": "XLav8clvk2CN"
      },
      "source": [
        "## **Name: Suresh Kumar R**\n",
        "## **CREDIT CARD FRAUD DETECTION**"
      ]
    },
    {
      "cell_type": "code",
      "execution_count": 1,
      "metadata": {
        "colab": {
          "base_uri": "https://localhost:8080/"
        },
        "id": "6hqLE8uilLOi",
        "outputId": "0044d517-25e7-46a9-d120-c85ddfa09b51"
      },
      "outputs": [
        {
          "name": "stdout",
          "output_type": "stream",
          "text": [
            "   Unnamed: 0 trans_date_trans_time            cc_num  \\\n",
            "0           0   2019-01-01 00:00:18  2703186189652095   \n",
            "1           1   2019-01-01 00:00:44      630423337322   \n",
            "2           2   2019-01-01 00:00:51    38859492057661   \n",
            "3           3   2019-01-01 00:01:16  3534093764340240   \n",
            "4           4   2019-01-01 00:03:06   375534208663984   \n",
            "\n",
            "                             merchant       category     amt      first  \\\n",
            "0          fraud_Rippin, Kub and Mann       misc_net    4.97   Jennifer   \n",
            "1     fraud_Heller, Gutmann and Zieme    grocery_pos  107.23  Stephanie   \n",
            "2                fraud_Lind-Buckridge  entertainment  220.11     Edward   \n",
            "3  fraud_Kutch, Hermiston and Farrell  gas_transport   45.00     Jeremy   \n",
            "4                 fraud_Keeling-Crist       misc_pos   41.96      Tyler   \n",
            "\n",
            "      last gender                        street  ...      lat      long  \\\n",
            "0    Banks      F                561 Perry Cove  ...  36.0788  -81.1781   \n",
            "1     Gill      F  43039 Riley Greens Suite 393  ...  48.8878 -118.2105   \n",
            "2  Sanchez      M      594 White Dale Suite 530  ...  42.1808 -112.2620   \n",
            "3    White      M   9443 Cynthia Court Apt. 038  ...  46.2306 -112.1138   \n",
            "4   Garcia      M              408 Bradley Rest  ...  38.4207  -79.4629   \n",
            "\n",
            "   city_pop                                job         dob  \\\n",
            "0      3495          Psychologist, counselling  1988-03-09   \n",
            "1       149  Special educational needs teacher  1978-06-21   \n",
            "2      4154        Nature conservation officer  1962-01-19   \n",
            "3      1939                    Patent attorney  1967-01-12   \n",
            "4        99     Dance movement psychotherapist  1986-03-28   \n",
            "\n",
            "                          trans_num   unix_time  merch_lat  merch_long  \\\n",
            "0  0b242abb623afc578575680df30655b9  1325376018  36.011293  -82.048315   \n",
            "1  1f76529f8574734946361c461b024d99  1325376044  49.159047 -118.186462   \n",
            "2  a1a22d70485983eac12b5b88dad1cf95  1325376051  43.150704 -112.154481   \n",
            "3  6b849c168bdad6f867558c3793159a81  1325376076  47.034331 -112.561071   \n",
            "4  a41d7549acf90789359a9aa5346dcb46  1325376186  38.674999  -78.632459   \n",
            "\n",
            "   is_fraud  \n",
            "0         0  \n",
            "1         0  \n",
            "2         0  \n",
            "3         0  \n",
            "4         0  \n",
            "\n",
            "[5 rows x 23 columns]\n",
            "   Unnamed: 0 trans_date_trans_time            cc_num  \\\n",
            "0           0   2020-06-21 12:14:25  2291163933867244   \n",
            "1           1   2020-06-21 12:14:33  3573030041201292   \n",
            "2           2   2020-06-21 12:14:53  3598215285024754   \n",
            "3           3   2020-06-21 12:15:15  3591919803438423   \n",
            "4           4   2020-06-21 12:15:17  3526826139003047   \n",
            "\n",
            "                               merchant        category    amt   first  \\\n",
            "0                 fraud_Kirlin and Sons   personal_care   2.86    Jeff   \n",
            "1                  fraud_Sporer-Keebler   personal_care  29.84  Joanne   \n",
            "2  fraud_Swaniawski, Nitzsche and Welch  health_fitness  41.28  Ashley   \n",
            "3                     fraud_Haley Group        misc_pos  60.05   Brian   \n",
            "4                 fraud_Johnston-Casper          travel   3.19  Nathan   \n",
            "\n",
            "       last gender                       street  ...      lat      long  \\\n",
            "0   Elliott      M            351 Darlene Green  ...  33.9659  -80.9355   \n",
            "1  Williams      F             3638 Marsh Union  ...  40.3207 -110.4360   \n",
            "2     Lopez      F         9333 Valentine Point  ...  40.6729  -73.5365   \n",
            "3  Williams      M  32941 Krystal Mill Apt. 552  ...  28.5697  -80.8191   \n",
            "4    Massey      M     5783 Evan Roads Apt. 465  ...  44.2529  -85.0170   \n",
            "\n",
            "   city_pop                     job         dob  \\\n",
            "0    333497     Mechanical engineer  1968-03-19   \n",
            "1       302  Sales professional, IT  1990-01-17   \n",
            "2     34496       Librarian, public  1970-10-21   \n",
            "3     54767            Set designer  1987-07-25   \n",
            "4      1126      Furniture designer  1955-07-06   \n",
            "\n",
            "                          trans_num   unix_time  merch_lat  merch_long  \\\n",
            "0  2da90c7d74bd46a0caf3777415b3ebd3  1371816865  33.986391  -81.200714   \n",
            "1  324cc204407e99f51b0d6ca0055005e7  1371816873  39.450498 -109.960431   \n",
            "2  c81755dbbbea9d5c77f094348a7579be  1371816893  40.495810  -74.196111   \n",
            "3  2159175b9efe66dc301f149d3d5abf8c  1371816915  28.812398  -80.883061   \n",
            "4  57ff021bd3f328f8738bb535c302a31b  1371816917  44.959148  -85.884734   \n",
            "\n",
            "   is_fraud  \n",
            "0         0  \n",
            "1         0  \n",
            "2         0  \n",
            "3         0  \n",
            "4         0  \n",
            "\n",
            "[5 rows x 23 columns]\n"
          ]
        }
      ],
      "source": [
        "import pandas as pd\n",
        "\n",
        "# Load the training and test datasets\n",
        "train_df = pd.read_csv('/content/fraudTrain.csv')\n",
        "test_df = pd.read_csv('/content/fraudTest.csv')\n",
        "\n",
        "# Explore the data\n",
        "print(train_df.head())\n",
        "print(test_df.head())"
      ]
    },
    {
      "cell_type": "code",
      "execution_count": 2,
      "metadata": {
        "id": "60QqKgWplRv6"
      },
      "outputs": [],
      "source": [
        "# Drop columns that are not useful or have too many unique values in both datasets\n",
        "columns_to_drop = ['Unnamed: 0','cc_num','first', 'last', 'street', 'city', 'state', 'zip', 'trans_num','lat','long','city_pop','merch_lat','merch_long','unix_time']\n",
        "train_df = train_df.drop(columns_to_drop, axis=1)\n",
        "test_df = test_df.drop(columns_to_drop, axis=1)"
      ]
    },
    {
      "cell_type": "code",
      "execution_count": 3,
      "metadata": {
        "id": "wfk79nwllZ7P"
      },
      "outputs": [],
      "source": [
        "#DATA PREPROCESSING DATE-TIME EXTRACTION FROM DD-MM-YYYY FORMAT\n",
        "def process_dataframes(train_df, test_df):\n",
        "    def extract_features_and_clean(df):\n",
        "        # Convert 'trans_date_trans_time' to datetime\n",
        "        df['trans_date_trans_time'] = pd.to_datetime(df['trans_date_trans_time'], format='%Y-%m-%d %H:%M:%S')\n",
        "\n",
        "        # Extract datetime features\n",
        "        df['hour'] = df['trans_date_trans_time'].dt.hour\n",
        "        df['day'] = df['trans_date_trans_time'].dt.day\n",
        "        df['day_of_week'] = df['trans_date_trans_time'].dt.dayofweek\n",
        "        df['month'] = df['trans_date_trans_time'].dt.month\n",
        "        df['quarter'] = df['trans_date_trans_time'].dt.quarter\n",
        "\n",
        "        # Drop unnecessary columns\n",
        "        df = df.drop(['trans_date_trans_time', 'dob'], axis=1)\n",
        "\n",
        "        # Clean 'merchant' column\n",
        "        df['merchant'] = df['merchant'].apply(lambda x: x.replace('fraud_', ''))\n",
        "\n",
        "        return df\n",
        "\n",
        "    # Process both train and test dataframes\n",
        "    train_df = extract_features_and_clean(train_df)\n",
        "    test_df = extract_features_and_clean(test_df)\n",
        "\n",
        "    return train_df, test_df\n",
        "\n",
        "# Assuming train_df and test_df are already defined\n",
        "train_df, test_df = process_dataframes(train_df, test_df)\n"
      ]
    },
    {
      "cell_type": "code",
      "execution_count": 4,
      "metadata": {
        "id": "h4O3XrVyljtM"
      },
      "outputs": [],
      "source": [
        "# Bin the 'amt' column for both datasets\n",
        "num_bins = 300\n",
        "for df in [train_df, test_df]:\n",
        "    df['amt'] = pd.cut(df['amt'], bins=num_bins, labels=False, right=False)"
      ]
    },
    {
      "cell_type": "code",
      "execution_count": 5,
      "metadata": {
        "id": "-kxsyIaJlm9F"
      },
      "outputs": [],
      "source": [
        "#MAP CATEGORICAL ATTRIBUTES TO BINARY FOR PREDICTION\n",
        "def map_gender(df):\n",
        "    df['gender_M'] = df['gender'].apply(lambda x: 1 if x == 'M' else 0)\n",
        "    df['gender_F'] = df['gender'].apply(lambda x: 1 if x == 'F' else 0)\n",
        "    return df.drop(['gender'], axis=1)\n",
        "\n",
        "train_df = map_gender(train_df)\n",
        "test_df = map_gender(test_df)\n"
      ]
    },
    {
      "cell_type": "code",
      "execution_count": 6,
      "metadata": {
        "id": "agno2zVXl4WI"
      },
      "outputs": [],
      "source": [
        "#LABEL ENCODING FOR STRING ATTRIBUTES LIKE MERCHANT,JOB AND CATEGORY OF CREDIT\n",
        "from sklearn.preprocessing import LabelEncoder\n",
        "encoder = LabelEncoder()\n",
        "def encode(df):\n",
        "    df['merchant'] = encoder.fit_transform(df['merchant'])\n",
        "    df['category'] = encoder.fit_transform(df['category'])\n",
        "    df['job'] = encoder.fit_transform(df['job'])\n",
        "    return df\n",
        "\n",
        "train_df = encode(train_df)\n",
        "test_df = encode(test_df)"
      ]
    },
    {
      "cell_type": "code",
      "execution_count": 7,
      "metadata": {
        "colab": {
          "base_uri": "https://localhost:8080/"
        },
        "id": "ZSn4fL9_mAd2",
        "outputId": "86e991df-6054-4dde-d186-9a13050508f7"
      },
      "outputs": [
        {
          "name": "stdout",
          "output_type": "stream",
          "text": [
            "   merchant  category  amt  job  is_fraud  hour  day  day_of_week  month  \\\n",
            "0       514         8    0  370         0     0    1            1      1   \n",
            "1       241         4    1  428         0     0    1            1      1   \n",
            "2       390         0    2  307         0     0    1            1      1   \n",
            "3       360         2    0  328         0     0    1            1      1   \n",
            "4       297         9    0  116         0     0    1            1      1   \n",
            "\n",
            "   quarter  gender_M  gender_F  \n",
            "0        1         0         1  \n",
            "1        1         0         1  \n",
            "2        1         1         0  \n",
            "3        1         1         0  \n",
            "4        1         1         0  \n",
            "   merchant  category  amt  job  is_fraud  hour  day  day_of_week  month  \\\n",
            "0       319        10    0  275         0    12   21            6      6   \n",
            "1       591        10    0  392         0    12   21            6      6   \n",
            "2       611         5    0  259         0    12   21            6      6   \n",
            "3       222         9    0  407         0    12   21            6      6   \n",
            "4       292        13    0  196         0    12   21            6      6   \n",
            "\n",
            "   quarter  gender_M  gender_F  \n",
            "0        2         1         0  \n",
            "1        2         0         1  \n",
            "2        2         0         1  \n",
            "3        2         1         0  \n",
            "4        2         1         0  \n"
          ]
        }
      ],
      "source": [
        "#DATASET AFTER PREPROCESSING\n",
        "print(train_df.head())\n",
        "print(test_df.head())"
      ]
    },
    {
      "cell_type": "code",
      "execution_count": 8,
      "metadata": {
        "id": "aj9guMo6mFzh"
      },
      "outputs": [],
      "source": [
        "from sklearn.model_selection import train_test_split\n",
        "\n",
        "# Split the training data into features and target variable\n",
        "X_train = train_df.drop('is_fraud', axis=1)\n",
        "y_train = train_df['is_fraud']\n",
        "\n",
        "# Split the test data into features and target variable\n",
        "X_test = test_df.drop('is_fraud', axis=1)\n",
        "y_test = test_df['is_fraud']\n"
      ]
    },
    {
      "cell_type": "code",
      "execution_count": 9,
      "metadata": {
        "id": "ZLHl7bHomKTy"
      },
      "outputs": [],
      "source": [
        "from sklearn.preprocessing import StandardScaler\n",
        "\n",
        "# Normalize the data\n",
        "scaler = StandardScaler()\n",
        "X_train = scaler.fit_transform(X_train)\n",
        "X_test = scaler.transform(X_test)\n"
      ]
    },
    {
      "cell_type": "code",
      "execution_count": 10,
      "metadata": {
        "colab": {
          "base_uri": "https://localhost:8080/"
        },
        "id": "Rx0zlTffmXIy",
        "outputId": "74f956d0-513b-4b4f-def2-cedbf593a708"
      },
      "outputs": [
        {
          "name": "stdout",
          "output_type": "stream",
          "text": [
            "Logistic Regression Results:\n",
            "[[553059    515]\n",
            " [  2145      0]]\n",
            "              precision    recall  f1-score   support\n",
            "\n",
            "           0       1.00      1.00      1.00    553574\n",
            "           1       0.00      0.00      0.00      2145\n",
            "\n",
            "    accuracy                           1.00    555719\n",
            "   macro avg       0.50      0.50      0.50    555719\n",
            "weighted avg       0.99      1.00      0.99    555719\n",
            "\n",
            "Accuracy: 0.995213408215303\n"
          ]
        }
      ],
      "source": [
        "from sklearn.linear_model import LogisticRegression\n",
        "from sklearn.metrics import classification_report, confusion_matrix, accuracy_score\n",
        "\n",
        "# Train Logistic Regression model\n",
        "lr_model = LogisticRegression()\n",
        "lr_model.fit(X_train, y_train)\n",
        "\n",
        "# Make predictions\n",
        "y_pred_lr = lr_model.predict(X_test)\n",
        "\n",
        "# Evaluate the model\n",
        "print(\"Logistic Regression Results:\")\n",
        "print(confusion_matrix(y_test, y_pred_lr))\n",
        "print(classification_report(y_test, y_pred_lr))\n",
        "print(\"Accuracy:\", accuracy_score(y_test, y_pred_lr))\n"
      ]
    },
    {
      "cell_type": "code",
      "execution_count": 11,
      "metadata": {
        "colab": {
          "base_uri": "https://localhost:8080/"
        },
        "id": "Br4lrzXlmcEj",
        "outputId": "ce7aeccb-f311-4ca2-e5fd-eac90851a4ca"
      },
      "outputs": [
        {
          "name": "stdout",
          "output_type": "stream",
          "text": [
            "Decision Tree Results:\n",
            "[[550412   3162]\n",
            " [  1110   1035]]\n",
            "              precision    recall  f1-score   support\n",
            "\n",
            "           0       1.00      0.99      1.00    553574\n",
            "           1       0.25      0.48      0.33      2145\n",
            "\n",
            "    accuracy                           0.99    555719\n",
            "   macro avg       0.62      0.74      0.66    555719\n",
            "weighted avg       1.00      0.99      0.99    555719\n",
            "\n",
            "Accuracy: 0.9923126616149529\n"
          ]
        }
      ],
      "source": [
        "from sklearn.tree import DecisionTreeClassifier\n",
        "\n",
        "# Train Decision Tree model\n",
        "dt_model = DecisionTreeClassifier()\n",
        "dt_model.fit(X_train, y_train)\n",
        "\n",
        "# Make predictions\n",
        "y_pred_dt = dt_model.predict(X_test)\n",
        "\n",
        "# Evaluate the model\n",
        "print(\"Decision Tree Results:\")\n",
        "print(confusion_matrix(y_test, y_pred_dt))\n",
        "print(classification_report(y_test, y_pred_dt))\n",
        "print(\"Accuracy:\", accuracy_score(y_test, y_pred_dt))\n"
      ]
    },
    {
      "cell_type": "code",
      "execution_count": 12,
      "metadata": {
        "id": "j_p7By71mc_7"
      },
      "outputs": [],
      "source": [
        "# Create a DataFrame with the predictions\n",
        "test_df['is_fraud_pred'] = y_pred_dt\n",
        "\n",
        "# Save to CSV\n",
        "test_df[['is_fraud', 'is_fraud_pred']].to_csv('creditcard_test_predictions.csv', index=False)\n"
      ]
    }
  ],
  "metadata": {
    "colab": {
      "provenance": []
    },
    "kernelspec": {
      "display_name": "Python 3",
      "name": "python3"
    },
    "language_info": {
      "name": "python"
    }
  },
  "nbformat": 4,
  "nbformat_minor": 0
}
